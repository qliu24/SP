{
 "cells": [
  {
   "cell_type": "code",
   "execution_count": 1,
   "metadata": {},
   "outputs": [
    {
     "name": "stdout",
     "output_type": "stream",
     "text": [
      "Total image number for train set of bus: 517\n",
      "Done\n"
     ]
    }
   ],
   "source": [
    "from scipy.spatial.distance import cdist\n",
    "import scipy.io as sio\n",
    "import matplotlib.pyplot as plt\n",
    "from config import *\n",
    "\n",
    "category = 'bus'\n",
    "set_type = 'train'\n",
    "pool_patch_r = 3\n",
    "back_per_instance = 3\n",
    "# get magic_threshold\n",
    "thrh_file = os.path.join(Model_dir,'magic_thh_{}_{}.pickle'.format(set_type,VC['layer']))\n",
    "with open(thrh_file, 'rb') as fh:\n",
    "    thrh_ls = pickle.load(fh)\n",
    "    \n",
    "magic_thrh = thrh_ls[all_categories2.index(category)]\n",
    "\n",
    "# get file list\n",
    "filelist = Dataset['{}_list'.format(set_type)].format(category)\n",
    "with open(filelist, 'r') as fh:\n",
    "    contents = fh.readlines()\n",
    "\n",
    "img_list = [cc.strip().split()[0] for cc in contents if cc != '\\n']\n",
    "idx_list = [cc.strip().split()[1] for cc in contents if cc != '\\n']\n",
    "\n",
    "N = len(img_list)\n",
    "print('Total image number for {} set of {}: {}'.format(set_type, category, N))\n",
    "\n",
    "# read in VC centers\n",
    "with open(Dict['Dictionary'].format(category),'rb') as fh:\n",
    "    centers = pickle.load(fh)\n",
    "\n",
    "# get instance features and encode into 0/1\n",
    "file_feat = os.path.join(Feat['cache_dir'], 'feat_{}_{}_{}.pickle'.format(category, set_type, VC['layer']))\n",
    "with open(file_feat, 'rb') as fh:\n",
    "    layer_feature = pickle.load(fh)\n",
    "    \n",
    "assert(N == len(layer_feature))\n",
    "\n",
    "r_set = [None for nn in range(N)]\n",
    "for nn in range(N):\n",
    "    iheight,iwidth = layer_feature[nn].shape[0:2]\n",
    "    lff = layer_feature[nn].reshape(-1, featDim)\n",
    "    lff_norm = lff/np.sqrt(np.sum(lff**2, 1)).reshape(-1,1)\n",
    "    r_set[nn] = cdist(lff_norm, centers, 'cosine').reshape(iheight,iwidth,-1)\n",
    "\n",
    "layer_feature_b = [None for nn in range(N)]\n",
    "for nn in range(N):\n",
    "    layer_feature_b[nn] = (r_set[nn]<magic_thrh).astype(int)\n",
    "    \n",
    "print('Done')"
   ]
  },
  {
   "cell_type": "code",
   "execution_count": 3,
   "metadata": {
    "scrolled": false
   },
   "outputs": [
    {
     "name": "stdout",
     "output_type": "stream",
     "text": [
      "0\n",
      "100\n",
      "200\n",
      "300\n",
      "400\n",
      "500\n",
      "Done\n"
     ]
    }
   ],
   "source": [
    "\n",
    "feature_len = VC['num']*(2*pool_patch_r+1)**2\n",
    "all_info = [None for nn in range(N)]\n",
    "\n",
    "for nn in range(N):\n",
    "    if nn%100==0:\n",
    "        print(nn)\n",
    "#     image_f = os.path.join(Dataset['img_dir'].format(category), '{}_{}.JPEG'.format(img_list[nn], idx_list[nn]))\n",
    "#     img=cv2.imread(image_f)\n",
    "#     plt.imshow(img[:,:,::-1])\n",
    "#     plt.show()\n",
    "    lfb = layer_feature_b[nn]\n",
    "    height, width = lfb.shape[0:2]\n",
    "    padded = np.pad(lfb, ((pool_patch_r,pool_patch_r),(pool_patch_r,pool_patch_r),(0,0)), 'constant')\n",
    "    \n",
    "    anno_file = os.path.join(Dataset['sp_anno_dir'].format(category), '{}.mat'.format(img_list[nn]))\n",
    "    matcontent = sio.loadmat(anno_file)\n",
    "    sp_num = matcontent['anno'][int(idx_list[nn])-1,1].shape[0]\n",
    "    # assert(sp_num == 39)\n",
    "    instance_info = [None for mm in range(sp_num+1)]\n",
    "    \n",
    "    cover_msk = np.zeros((height, width))\n",
    "    \n",
    "    for mm in range(sp_num):\n",
    "        sn_check = matcontent['anno'][int(idx_list[nn])-1,1][mm,0].shape[1]\n",
    "        if sn_check>0 and sn_check!=9:\n",
    "            print(nn,mm, matcontent['anno'][int(idx_list[nn])-1,1][mm,0].shape)\n",
    "            spi_num=0\n",
    "        else:\n",
    "            spi_num = matcontent['anno'][int(idx_list[nn])-1,1][mm,0].shape[0]\n",
    "            \n",
    "        sp_info = [None for kk in range(spi_num)]\n",
    "        for kk in range(spi_num):\n",
    "            # print(nn,mm,kk)\n",
    "            spi_box = matcontent['anno'][int(idx_list[nn])-1,1][mm,0][kk]\n",
    "#             print(spi_box[0:4])\n",
    "#             spi_patch = img[int(max(spi_box[1],0)):int(spi_box[3]), int(max(spi_box[0],0)):int(spi_box[2])]\n",
    "#             plt.imshow(spi_patch[:,:,::-1])\n",
    "#             plt.show()\n",
    "            \n",
    "            xy = (spi_box[0:2]+spi_box[2:4])/2-1\n",
    "            pool_xy = (xy//Astride).astype(int)\n",
    "            try:\n",
    "                pool_xy[0] < 0\n",
    "            except:\n",
    "                print(img_list[nn], idx_list[nn], matcontent['anno'][int(idx_list[nn])-1,1][mm,0])\n",
    "                \n",
    "            if pool_xy[0] < 0:\n",
    "                # print(xy[0],pool_xy[0])\n",
    "                pool_xy[0] = 0\n",
    "            if pool_xy[0] > width - 1:\n",
    "                # print(xy[0], pool_xy[0], width - 1)\n",
    "                pool_xy[0] = width - 1\n",
    "            if pool_xy[1] < 0:\n",
    "                # print(xy[1],pool_xy[1])\n",
    "                pool_xy[1] = 0\n",
    "            if pool_xy[1] > height - 1:\n",
    "                # print(xy[1], pool_xy[1], height - 1)\n",
    "                pool_xy[1] = height - 1\n",
    "                \n",
    "            sp_info[kk] = np.copy(padded[pool_xy[1]: pool_xy[1]+(2*pool_patch_r+1),\\\n",
    "                                         pool_xy[0]: pool_xy[0]+(2*pool_patch_r+1)].ravel())\n",
    "            \n",
    "            assert(len(sp_info[kk])==feature_len)\n",
    "            \n",
    "            cover_msk[max(0,int(pool_xy[1]-pool_patch_r)):min(height,int(pool_xy[1]+pool_patch_r+1)),\\\n",
    "                      max(0,int(pool_xy[0]-pool_patch_r)):min(width,int(pool_xy[0]+pool_patch_r+1))] = 1\n",
    "            \n",
    "        instance_info[mm] = sp_info\n",
    "        \n",
    "    \n",
    "    \n",
    "    bg_r,bg_c = np.where(cover_msk==0)\n",
    "    if len(bg_r) > back_per_instance:\n",
    "        bg_select = np.random.choice(len(bg_r), size=(back_per_instance,), replace=False)\n",
    "    else:\n",
    "        bg_select = np.array(range(len(bg_r)))\n",
    "        \n",
    "    bg_info = [None for bb in range(len(bg_select))]\n",
    "    for bgi, bg_idx in enumerate(bg_select):\n",
    "        bg_rr = bg_r[bg_idx]\n",
    "        bg_cc = bg_c[bg_idx]\n",
    "        \n",
    "        bg_info[bgi] = np.copy(padded[bg_rr: bg_rr+(2*pool_patch_r+1),bg_cc:bg_cc+(2*pool_patch_r+1)].ravel())\n",
    "    \n",
    "    instance_info[sp_num] = bg_info\n",
    "    \n",
    "    all_info[nn] = instance_info\n",
    "    \n",
    "print('Done')\n"
   ]
  },
  {
   "cell_type": "code",
   "execution_count": 4,
   "metadata": {},
   "outputs": [
    {
     "data": {
      "text/plain": [
       "array([ -32.34468665,   23.81743869,   67.65531335,  123.81743869,\n",
       "        -39.27132396,  139.49068217,  122.3358189 ,  301.09782503,   10.        ])"
      ]
     },
     "execution_count": 4,
     "metadata": {},
     "output_type": "execute_result"
    }
   ],
   "source": [
    "spi_box"
   ]
  },
  {
   "cell_type": "code",
   "execution_count": 3,
   "metadata": {},
   "outputs": [
    {
     "name": "stdout",
     "output_type": "stream",
     "text": [
      "done\n"
     ]
    }
   ],
   "source": [
    "save_name = os.path.join(VCencode_dir, 'SP_{}_encoding_{}.pickle'.format(VC['layer'], category))\n",
    "with open(save_name,'wb') as fh:\n",
    "    pickle.dump(all_info, fh)\n",
    "    \n",
    "print('done')"
   ]
  },
  {
   "cell_type": "code",
   "execution_count": 4,
   "metadata": {},
   "outputs": [
    {
     "name": "stdout",
     "output_type": "stream",
     "text": [
      "[2, 1, 1, 2, 1, 2, 2, 2, 2, 1, 1, 1, 1, 1, 1, 1, 2, 0, 1, 0, 1, 0, 0, 1, 1, 0, 1, 0, 1, 1, 1, 1, 0, 0, 0, 0, 1, 0, 0, 4]\n"
     ]
    }
   ],
   "source": [
    "print([len(all_info[0][pp]) for pp in range(40)])"
   ]
  },
  {
   "cell_type": "code",
   "execution_count": 12,
   "metadata": {},
   "outputs": [
    {
     "data": {
      "text/plain": [
       "(7350,)"
      ]
     },
     "execution_count": 12,
     "metadata": {},
     "output_type": "execute_result"
    }
   ],
   "source": [
    "all_info[0][11][0].shape"
   ]
  },
  {
   "cell_type": "code",
   "execution_count": 14,
   "metadata": {},
   "outputs": [
    {
     "name": "stdout",
     "output_type": "stream",
     "text": [
      "[5, 9, 30, 59]\n"
     ]
    }
   ],
   "source": [
    "print([np.sum(ff) for ff in all_info[0][39]])"
   ]
  },
  {
   "cell_type": "code",
   "execution_count": null,
   "metadata": {
    "collapsed": true
   },
   "outputs": [],
   "source": []
  },
  {
   "cell_type": "code",
   "execution_count": 1,
   "metadata": {},
   "outputs": [
    {
     "name": "stdout",
     "output_type": "stream",
     "text": [
      "Total image number of car: 2000\n",
      "0\n",
      "100\n",
      "200\n",
      "300\n",
      "400\n",
      "500\n",
      "600\n",
      "700\n",
      "800\n",
      "900\n",
      "1000\n",
      "1100\n",
      "1200\n",
      "1300\n",
      "1400\n",
      "1500\n",
      "1600\n",
      "1700\n",
      "1800\n",
      "1900\n",
      "[ 3279.  3080.  3099.  2913.  2935.  3048.  2991.  3071.  3027.  2383.\n",
      "  1645.  2498.  1694.  2464.  1715.  2348.  2090.   771.   683.   361.\n",
      "  1199.   445.   410.  1236.  1136.   936.   777.   662.   551.   583.\n",
      "   543.   557.   660.   635.   642.   592.   541.   184.   188.  5929.]\n"
     ]
    }
   ],
   "source": [
    "from config import *\n",
    "\n",
    "category = 'car'\n",
    "vc_file = os.path.join(VCencode_dir, 'SP_{}_encoding_{}.pickle'.format(VC['layer'], category))\n",
    "with open(vc_file,'rb') as fh:\n",
    "    all_info = pickle.load(fh)\n",
    "    \n",
    "N = len(all_info)\n",
    "print('Total image number of {}: {}'.format(category, N))\n",
    "sp_num = len(all_info[0])\n",
    "assert(np.all([len(ff)==sp_num for ff in all_info])) # all have the same sp num\n",
    "\n",
    "feature_len = VC['num']*(2*SP['patch_r']+1)**2\n",
    "sp_fires = [np.zeros(feature_len) for pp in range(sp_num)]\n",
    "sp_cnt = np.zeros(sp_num)\n",
    "\n",
    "for nn in range(N):\n",
    "    if nn%100==0:\n",
    "        print(nn)\n",
    "    \n",
    "    for pp in range(sp_num):\n",
    "        spi_cnt = len(all_info[nn][pp])\n",
    "        sp_cnt[pp]+=spi_cnt\n",
    "        \n",
    "        for ii in range(spi_cnt):\n",
    "            sp_fires[pp]+=all_info[nn][pp][ii]\n",
    "            \n",
    "print(sp_cnt)"
   ]
  },
  {
   "cell_type": "code",
   "execution_count": 2,
   "metadata": {},
   "outputs": [
    {
     "name": "stdout",
     "output_type": "stream",
     "text": [
      "donw\n"
     ]
    }
   ],
   "source": [
    "sp_models = [None for pp in range(sp_num)]\n",
    "for pp in range(sp_num):\n",
    "    freq = sp_fires[pp].astype(float)/sp_cnt[pp]+1e-4\n",
    "    weights = np.log(freq/(1-freq))\n",
    "    Z = np.sum(np.log(1.0/(1.0-freq)))\n",
    "    sp_models[pp] = (weights, Z)\n",
    "    \n",
    "print('done')"
   ]
  },
  {
   "cell_type": "code",
   "execution_count": 13,
   "metadata": {},
   "outputs": [
    {
     "data": {
      "image/png": "[encoded data removed]",
      "text/plain": [
       "<matplotlib.figure.Figure at 0x7fde4727e780>"
      ]
     },
     "metadata": {},
     "output_type": "display_data"
    }
   ],
   "source": [
    "import matplotlib.pyplot as plt\n",
    "\n",
    "cube = sp_models[39][0].reshape(7,7,150)\n",
    "\n",
    "plt.imshow(cube[:,:,4], cmap='gray')\n",
    "plt.show()"
   ]
  },
  {
   "cell_type": "code",
   "execution_count": null,
   "metadata": {
    "collapsed": true
   },
   "outputs": [],
   "source": [
    "model_file = os.path.join(Model_dir, 'Unary_{}_{}.pickle'.format(VC['layer'], category))\n",
    "with open(model_file,'wb') as fh:\n",
    "    pickle.dump(sp_models, fh)"
   ]
  },
  {
   "cell_type": "code",
   "execution_count": 23,
   "metadata": {},
   "outputs": [
    {
     "data": {
      "text/plain": [
       "inf"
      ]
     },
     "execution_count": 23,
     "metadata": {},
     "output_type": "execute_result"
    }
   ],
   "source": [
    "np.inf"
   ]
  },
  {
   "cell_type": "code",
   "execution_count": 14,
   "metadata": {},
   "outputs": [
    {
     "data": {
      "text/plain": [
       "(array([0, 0, 0, 0, 1, 1, 1, 1, 2, 2, 2, 2]),\n",
       " array([0, 1, 2, 3, 0, 1, 2, 3, 0, 1, 2, 3]))"
      ]
     },
     "execution_count": 14,
     "metadata": {},
     "output_type": "execute_result"
    }
   ],
   "source": [
    "np.unravel_index(range(12), (3,4))"
   ]
  },
  {
   "cell_type": "code",
   "execution_count": 17,
   "metadata": {},
   "outputs": [
    {
     "data": {
      "text/plain": [
       "array([ 0,  1,  2,  3,  4,  5,  6,  7,  8,  9, 10, 11])"
      ]
     },
     "execution_count": 17,
     "metadata": {},
     "output_type": "execute_result"
    }
   ],
   "source": [
    "np.array([[0,1,2,3],[4,5,6,7],[8,9,10,11]]).ravel()"
   ]
  },
  {
   "cell_type": "code",
   "execution_count": 5,
   "metadata": {},
   "outputs": [
    {
     "ename": "AxisError",
     "evalue": "axis 1 is out of bounds for array of dimension 1",
     "output_type": "error",
     "traceback": [
      "\u001b[0;31m---------------------------------------------------------------------------\u001b[0m",
      "\u001b[0;31mAxisError\u001b[0m                                 Traceback (most recent call last)",
      "\u001b[0;32m<ipython-input-5-39ce5bbf180a>\u001b[0m in \u001b[0;36m<module>\u001b[0;34m()\u001b[0m\n\u001b[0;32m----> 1\u001b[0;31m \u001b[0mnp\u001b[0m\u001b[0;34m.\u001b[0m\u001b[0mconcatenate\u001b[0m\u001b[0;34m(\u001b[0m\u001b[0;34m(\u001b[0m\u001b[0mnp\u001b[0m\u001b[0;34m.\u001b[0m\u001b[0mzeros\u001b[0m\u001b[0;34m(\u001b[0m\u001b[0;36m3\u001b[0m\u001b[0;34m)\u001b[0m\u001b[0;34m,\u001b[0m\u001b[0mnp\u001b[0m\u001b[0;34m.\u001b[0m\u001b[0mones\u001b[0m\u001b[0;34m(\u001b[0m\u001b[0;36m3\u001b[0m\u001b[0;34m)\u001b[0m\u001b[0;34m)\u001b[0m\u001b[0;34m,\u001b[0m \u001b[0maxis\u001b[0m\u001b[0;34m=\u001b[0m\u001b[0;36m1\u001b[0m\u001b[0;34m)\u001b[0m\u001b[0;34m\u001b[0m\u001b[0m\n\u001b[0m",
      "\u001b[0;31mAxisError\u001b[0m: axis 1 is out of bounds for array of dimension 1"
     ]
    }
   ],
   "source": [
    "np.concatenate((np.zeros(3),np.ones(3)), axis=1)"
   ]
  },
  {
   "cell_type": "code",
   "execution_count": 8,
   "metadata": {},
   "outputs": [
    {
     "data": {
      "text/plain": [
       "'abc0.7'"
      ]
     },
     "execution_count": 8,
     "metadata": {},
     "output_type": "execute_result"
    }
   ],
   "source": [
    "'abc{:3.1f}'.format(0.66666)"
   ]
  },
  {
   "cell_type": "code",
   "execution_count": null,
   "metadata": {
    "collapsed": true
   },
   "outputs": [],
   "source": []
  }
 ],
 "metadata": {
  "kernelspec": {
   "display_name": "Python 3",
   "language": "python",
   "name": "python3"
  },
  "language_info": {
   "codemirror_mode": {
    "name": "ipython",
    "version": 3
   },
   "file_extension": ".py",
   "mimetype": "text/x-python",
   "name": "python",
   "nbconvert_exporter": "python",
   "pygments_lexer": "ipython3",
   "version": "3.6.1"
  }
 },
 "nbformat": 4,
 "nbformat_minor": 2
}
